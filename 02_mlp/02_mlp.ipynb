{
 "cells": [
  {
   "cell_type": "markdown",
   "metadata": {},
   "source": [
    "# Обучение нейронной сети MLP и классификация (5-е ДМЗ)\n",
    "\n",
    "> Выполнил: Власов Максим Сергеевич, студент группы 381806-1 ННГУ им. Лобачевского"
   ]
  },
  {
   "cell_type": "code",
   "execution_count": 1,
   "metadata": {},
   "outputs": [],
   "source": [
    "import os\n",
    "import numpy as np\n",
    "import pandas as pd\n",
    "import matplotlib.pyplot as plt\n",
    "%matplotlib inline"
   ]
  },
  {
   "cell_type": "markdown",
   "metadata": {},
   "source": [
    "## Информация о датасете\n",
    "\n",
    "Датасет содержит информацию об опубликованных на новостном сайте материалах, в том числе количество слов, ссылок, картинок, день публикации, некоторые синтетические метрики (доля положительных и отрицательных суждений, нейтральность/полярность заголовка и т. д.), а также количество выполнений пользователями действия \"Поделиться\" (оно же является значением, предсказание которого является задачей классификации для приведенного датасета).\n",
    "\n",
    "Более подробную информацию о датасете можно найти в предыдущей практической работе **01_classification** (2-е ДМЗ)."
   ]
  },
  {
   "cell_type": "markdown",
   "metadata": {},
   "source": [
    "## Загрузка и предобработка данных\n",
    "\n",
    "Загрузка и предобработка данных проводится в точности теми же способами, которые были применены в предыдущей практической работе **01_classification** (2-е ДМЗ). Там же можно найти комментарии к каждой операции над данными.\n",
    "\n",
    "Напомним лишь, что целевым признаком для классификации является `shares_discr`, имеющий два класса: **0** и **1**. Он равен **0**, если соответствующее значение `shares` в исходном датасете не превышает 5000, и **1** в противном случае."
   ]
  },
  {
   "cell_type": "code",
   "execution_count": 2,
   "metadata": {},
   "outputs": [],
   "source": [
    "DATASET_NAME = \"OnlineNewsPopularity.csv\"\n",
    "DATASET_PATH = os.path.realpath(os.path.join(os.getcwd(), \"datasets\", DATASET_NAME))\n",
    "if not os.path.exists(DATASET_PATH):\n",
    "    print(DATASET_PATH + \": файл не найден. Обратитесь к инструкции ../datasets/README.md.\")"
   ]
  },
  {
   "cell_type": "code",
   "execution_count": 3,
   "metadata": {},
   "outputs": [
    {
     "data": {
      "text/html": [
       "<div>\n",
       "<style scoped>\n",
       "    .dataframe tbody tr th:only-of-type {\n",
       "        vertical-align: middle;\n",
       "    }\n",
       "\n",
       "    .dataframe tbody tr th {\n",
       "        vertical-align: top;\n",
       "    }\n",
       "\n",
       "    .dataframe thead th {\n",
       "        text-align: right;\n",
       "    }\n",
       "</style>\n",
       "<table border=\"1\" class=\"dataframe\">\n",
       "  <thead>\n",
       "    <tr style=\"text-align: right;\">\n",
       "      <th></th>\n",
       "      <th>n_tokens_title</th>\n",
       "      <th>n_tokens_content</th>\n",
       "      <th>num_hrefs</th>\n",
       "      <th>num_imgs</th>\n",
       "      <th>num_videos</th>\n",
       "      <th>is_weekend</th>\n",
       "      <th>global_rate_positive_words</th>\n",
       "      <th>global_rate_negative_words</th>\n",
       "      <th>global_subjectivity</th>\n",
       "      <th>global_sentiment_polarity</th>\n",
       "      <th>shares_discr</th>\n",
       "      <th>data_channel_bus</th>\n",
       "      <th>data_channel_entertainment</th>\n",
       "      <th>data_channel_lifestyle</th>\n",
       "      <th>data_channel_other</th>\n",
       "      <th>data_channel_socmed</th>\n",
       "      <th>data_channel_tech</th>\n",
       "      <th>data_channel_world</th>\n",
       "    </tr>\n",
       "  </thead>\n",
       "  <tbody>\n",
       "    <tr>\n",
       "      <th>count</th>\n",
       "      <td>39644.000000</td>\n",
       "      <td>39644.000000</td>\n",
       "      <td>39644.000000</td>\n",
       "      <td>39644.000000</td>\n",
       "      <td>39644.000000</td>\n",
       "      <td>39644.000000</td>\n",
       "      <td>39644.000000</td>\n",
       "      <td>39644.000000</td>\n",
       "      <td>39644.000000</td>\n",
       "      <td>39644.000000</td>\n",
       "      <td>39644.000000</td>\n",
       "      <td>39644.000000</td>\n",
       "      <td>39644.000000</td>\n",
       "      <td>39644.000000</td>\n",
       "      <td>39644.000000</td>\n",
       "      <td>39644.000000</td>\n",
       "      <td>39644.000000</td>\n",
       "      <td>39644.000000</td>\n",
       "    </tr>\n",
       "    <tr>\n",
       "      <th>mean</th>\n",
       "      <td>0.399940</td>\n",
       "      <td>0.064493</td>\n",
       "      <td>0.035802</td>\n",
       "      <td>0.035501</td>\n",
       "      <td>0.013735</td>\n",
       "      <td>0.130915</td>\n",
       "      <td>0.254842</td>\n",
       "      <td>0.089828</td>\n",
       "      <td>0.443370</td>\n",
       "      <td>0.457439</td>\n",
       "      <td>0.130663</td>\n",
       "      <td>0.157855</td>\n",
       "      <td>0.178009</td>\n",
       "      <td>0.052946</td>\n",
       "      <td>0.154727</td>\n",
       "      <td>0.058597</td>\n",
       "      <td>0.185299</td>\n",
       "      <td>0.212567</td>\n",
       "    </tr>\n",
       "    <tr>\n",
       "      <th>std</th>\n",
       "      <td>0.100668</td>\n",
       "      <td>0.055594</td>\n",
       "      <td>0.037276</td>\n",
       "      <td>0.064917</td>\n",
       "      <td>0.045141</td>\n",
       "      <td>0.337312</td>\n",
       "      <td>0.112090</td>\n",
       "      <td>0.058550</td>\n",
       "      <td>0.116685</td>\n",
       "      <td>0.086422</td>\n",
       "      <td>0.337036</td>\n",
       "      <td>0.364610</td>\n",
       "      <td>0.382525</td>\n",
       "      <td>0.223929</td>\n",
       "      <td>0.361649</td>\n",
       "      <td>0.234871</td>\n",
       "      <td>0.388545</td>\n",
       "      <td>0.409129</td>\n",
       "    </tr>\n",
       "    <tr>\n",
       "      <th>min</th>\n",
       "      <td>0.000000</td>\n",
       "      <td>0.000000</td>\n",
       "      <td>0.000000</td>\n",
       "      <td>0.000000</td>\n",
       "      <td>0.000000</td>\n",
       "      <td>0.000000</td>\n",
       "      <td>0.000000</td>\n",
       "      <td>0.000000</td>\n",
       "      <td>0.000000</td>\n",
       "      <td>0.000000</td>\n",
       "      <td>0.000000</td>\n",
       "      <td>0.000000</td>\n",
       "      <td>0.000000</td>\n",
       "      <td>0.000000</td>\n",
       "      <td>0.000000</td>\n",
       "      <td>0.000000</td>\n",
       "      <td>0.000000</td>\n",
       "      <td>0.000000</td>\n",
       "    </tr>\n",
       "    <tr>\n",
       "      <th>25%</th>\n",
       "      <td>0.333333</td>\n",
       "      <td>0.029030</td>\n",
       "      <td>0.013158</td>\n",
       "      <td>0.007812</td>\n",
       "      <td>0.000000</td>\n",
       "      <td>0.000000</td>\n",
       "      <td>0.182550</td>\n",
       "      <td>0.051994</td>\n",
       "      <td>0.396167</td>\n",
       "      <td>0.402560</td>\n",
       "      <td>0.000000</td>\n",
       "      <td>0.000000</td>\n",
       "      <td>0.000000</td>\n",
       "      <td>0.000000</td>\n",
       "      <td>0.000000</td>\n",
       "      <td>0.000000</td>\n",
       "      <td>0.000000</td>\n",
       "      <td>0.000000</td>\n",
       "    </tr>\n",
       "    <tr>\n",
       "      <th>50%</th>\n",
       "      <td>0.380952</td>\n",
       "      <td>0.048265</td>\n",
       "      <td>0.026316</td>\n",
       "      <td>0.007812</td>\n",
       "      <td>0.000000</td>\n",
       "      <td>0.000000</td>\n",
       "      <td>0.250970</td>\n",
       "      <td>0.082936</td>\n",
       "      <td>0.453457</td>\n",
       "      <td>0.457267</td>\n",
       "      <td>0.000000</td>\n",
       "      <td>0.000000</td>\n",
       "      <td>0.000000</td>\n",
       "      <td>0.000000</td>\n",
       "      <td>0.000000</td>\n",
       "      <td>0.000000</td>\n",
       "      <td>0.000000</td>\n",
       "      <td>0.000000</td>\n",
       "    </tr>\n",
       "    <tr>\n",
       "      <th>75%</th>\n",
       "      <td>0.476190</td>\n",
       "      <td>0.084494</td>\n",
       "      <td>0.046053</td>\n",
       "      <td>0.031250</td>\n",
       "      <td>0.010989</td>\n",
       "      <td>0.000000</td>\n",
       "      <td>0.323365</td>\n",
       "      <td>0.117552</td>\n",
       "      <td>0.508333</td>\n",
       "      <td>0.509617</td>\n",
       "      <td>0.000000</td>\n",
       "      <td>0.000000</td>\n",
       "      <td>0.000000</td>\n",
       "      <td>0.000000</td>\n",
       "      <td>0.000000</td>\n",
       "      <td>0.000000</td>\n",
       "      <td>0.000000</td>\n",
       "      <td>0.000000</td>\n",
       "    </tr>\n",
       "    <tr>\n",
       "      <th>max</th>\n",
       "      <td>1.000000</td>\n",
       "      <td>1.000000</td>\n",
       "      <td>1.000000</td>\n",
       "      <td>1.000000</td>\n",
       "      <td>1.000000</td>\n",
       "      <td>1.000000</td>\n",
       "      <td>1.000000</td>\n",
       "      <td>1.000000</td>\n",
       "      <td>1.000000</td>\n",
       "      <td>1.000000</td>\n",
       "      <td>1.000000</td>\n",
       "      <td>1.000000</td>\n",
       "      <td>1.000000</td>\n",
       "      <td>1.000000</td>\n",
       "      <td>1.000000</td>\n",
       "      <td>1.000000</td>\n",
       "      <td>1.000000</td>\n",
       "      <td>1.000000</td>\n",
       "    </tr>\n",
       "  </tbody>\n",
       "</table>\n",
       "</div>"
      ],
      "text/plain": [
       "       n_tokens_title  n_tokens_content     num_hrefs      num_imgs  \\\n",
       "count    39644.000000      39644.000000  39644.000000  39644.000000   \n",
       "mean         0.399940          0.064493      0.035802      0.035501   \n",
       "std          0.100668          0.055594      0.037276      0.064917   \n",
       "min          0.000000          0.000000      0.000000      0.000000   \n",
       "25%          0.333333          0.029030      0.013158      0.007812   \n",
       "50%          0.380952          0.048265      0.026316      0.007812   \n",
       "75%          0.476190          0.084494      0.046053      0.031250   \n",
       "max          1.000000          1.000000      1.000000      1.000000   \n",
       "\n",
       "         num_videos    is_weekend  global_rate_positive_words  \\\n",
       "count  39644.000000  39644.000000                39644.000000   \n",
       "mean       0.013735      0.130915                    0.254842   \n",
       "std        0.045141      0.337312                    0.112090   \n",
       "min        0.000000      0.000000                    0.000000   \n",
       "25%        0.000000      0.000000                    0.182550   \n",
       "50%        0.000000      0.000000                    0.250970   \n",
       "75%        0.010989      0.000000                    0.323365   \n",
       "max        1.000000      1.000000                    1.000000   \n",
       "\n",
       "       global_rate_negative_words  global_subjectivity  \\\n",
       "count                39644.000000         39644.000000   \n",
       "mean                     0.089828             0.443370   \n",
       "std                      0.058550             0.116685   \n",
       "min                      0.000000             0.000000   \n",
       "25%                      0.051994             0.396167   \n",
       "50%                      0.082936             0.453457   \n",
       "75%                      0.117552             0.508333   \n",
       "max                      1.000000             1.000000   \n",
       "\n",
       "       global_sentiment_polarity  shares_discr  data_channel_bus  \\\n",
       "count               39644.000000  39644.000000      39644.000000   \n",
       "mean                    0.457439      0.130663          0.157855   \n",
       "std                     0.086422      0.337036          0.364610   \n",
       "min                     0.000000      0.000000          0.000000   \n",
       "25%                     0.402560      0.000000          0.000000   \n",
       "50%                     0.457267      0.000000          0.000000   \n",
       "75%                     0.509617      0.000000          0.000000   \n",
       "max                     1.000000      1.000000          1.000000   \n",
       "\n",
       "       data_channel_entertainment  data_channel_lifestyle  data_channel_other  \\\n",
       "count                39644.000000            39644.000000        39644.000000   \n",
       "mean                     0.178009                0.052946            0.154727   \n",
       "std                      0.382525                0.223929            0.361649   \n",
       "min                      0.000000                0.000000            0.000000   \n",
       "25%                      0.000000                0.000000            0.000000   \n",
       "50%                      0.000000                0.000000            0.000000   \n",
       "75%                      0.000000                0.000000            0.000000   \n",
       "max                      1.000000                1.000000            1.000000   \n",
       "\n",
       "       data_channel_socmed  data_channel_tech  data_channel_world  \n",
       "count         39644.000000       39644.000000        39644.000000  \n",
       "mean              0.058597           0.185299            0.212567  \n",
       "std               0.234871           0.388545            0.409129  \n",
       "min               0.000000           0.000000            0.000000  \n",
       "25%               0.000000           0.000000            0.000000  \n",
       "50%               0.000000           0.000000            0.000000  \n",
       "75%               0.000000           0.000000            0.000000  \n",
       "max               1.000000           1.000000            1.000000  "
      ]
     },
     "execution_count": 3,
     "metadata": {},
     "output_type": "execute_result"
    }
   ],
   "source": [
    "data_raw = pd.read_csv(DATASET_PATH)\n",
    "data_raw.columns = data_raw.columns.str.strip()\n",
    "data_raw[\"shares_discr\"] = np.where(data_raw[\"shares\"] >= 5000, 1, 0)\n",
    "data_raw[\"shares_discr\"].value_counts()\n",
    "data_raw[\"data_channel\"] = data_raw.apply(lambda row: \"lifestyle\" if row[\"data_channel_is_lifestyle\"] else\n",
    "                                                      \"entertainment\" if row[\"data_channel_is_entertainment\"] else\n",
    "                                                      \"bus\" if row[\"data_channel_is_bus\"] else\n",
    "                                                      \"socmed\" if row[\"data_channel_is_socmed\"] else\n",
    "                                                      \"tech\" if row[\"data_channel_is_tech\"] else\n",
    "                                                      \"world\" if row[\"data_channel_is_world\"] else\n",
    "                                                      \"other\", axis=1)\n",
    "data_raw[\"data_channel\"] = data_raw[\"data_channel\"].astype(\"category\")\n",
    "columns = [\"n_tokens_title\", \"n_tokens_content\", \"num_hrefs\", \"num_imgs\", \"num_videos\", \"is_weekend\", \"global_rate_positive_words\",\n",
    "           \"global_rate_negative_words\", \"global_subjectivity\", \"global_sentiment_polarity\", \"data_channel\", \"shares_discr\"]\n",
    "data = data_raw.loc[:, columns]\n",
    "data = pd.get_dummies(data)\n",
    "data = (data - data.min(axis=0)) / (data.max(axis=0) - data.min(axis=0))\n",
    "data.describe()"
   ]
  },
  {
   "cell_type": "markdown",
   "metadata": {},
   "source": [
    "## Обучение"
   ]
  },
  {
   "cell_type": "code",
   "execution_count": 4,
   "metadata": {},
   "outputs": [],
   "source": [
    "from sklearn.metrics import accuracy_score, confusion_matrix, ConfusionMatrixDisplay\n",
    "from sklearn.model_selection import train_test_split\n",
    "from sklearn.neural_network import MLPClassifier"
   ]
  },
  {
   "cell_type": "markdown",
   "metadata": {},
   "source": [
    "В качестве обучающей выборки возьмем 75% данных, остальные 25% включим в тестовую."
   ]
  },
  {
   "cell_type": "code",
   "execution_count": 5,
   "metadata": {},
   "outputs": [],
   "source": [
    "X = data.drop([\"shares_discr\"], 1)\n",
    "y = data[\"shares_discr\"]\n",
    "\n",
    "X_train, X_test, y_train, y_test = train_test_split(X, y, test_size=0.25, random_state=5924)"
   ]
  },
  {
   "cell_type": "markdown",
   "metadata": {},
   "source": [
    "### Обучение классификатора MLP"
   ]
  },
  {
   "cell_type": "code",
   "execution_count": 6,
   "metadata": {},
   "outputs": [
    {
     "name": "stdout",
     "output_type": "stream",
     "text": [
      "Wall time: 3.55 s\n"
     ]
    },
    {
     "data": {
      "text/plain": [
       "MLPClassifier(activation='logistic', random_state=5924, solver='lbfgs')"
      ]
     },
     "execution_count": 6,
     "metadata": {},
     "output_type": "execute_result"
    }
   ],
   "source": [
    "%%time\n",
    "model = MLPClassifier(hidden_layer_sizes=(100,), solver=\"lbfgs\", activation=\"logistic\", random_state=5924)\n",
    "model.fit(X_train, y_train)\n"
   ]
  },
  {
   "cell_type": "markdown",
   "metadata": {},
   "source": [
    "Можно вычислить точность полученного классификатора:"
   ]
  },
  {
   "cell_type": "code",
   "execution_count": 7,
   "metadata": {},
   "outputs": [
    {
     "name": "stdout",
     "output_type": "stream",
     "text": [
      "Train: 0.8694379981838362, Test: 0.8694379981838362\n"
     ]
    }
   ],
   "source": [
    "y_train_pred = model.predict(X_train)\n",
    "y_test_pred = model.predict(X_test)\n",
    "print(\"Train: {}, Test: {}\".format(\n",
    "    accuracy_score(y_train, y_train_pred),\n",
    "    accuracy_score(y_test, y_test_pred)\n",
    "))"
   ]
  },
  {
   "cell_type": "markdown",
   "metadata": {},
   "source": [
    "### Подбор гиперпараметров\n",
    "\n",
    "Сначала попробуем подобрать только один оптимальный параметр - коэффициент регуляризации $\\alpha$."
   ]
  },
  {
   "cell_type": "code",
   "execution_count": 8,
   "metadata": {},
   "outputs": [
    {
     "name": "stdout",
     "output_type": "stream",
     "text": [
      "Wall time: 1min 6s\n"
     ]
    }
   ],
   "source": [
    "%%time\n",
    "\n",
    "alpha_arr = np.logspace(-3, 2, 20)\n",
    "test_err = []\n",
    "train_err = []\n",
    "train_acc = []\n",
    "test_acc = []\n",
    "\n",
    "for alpha in alpha_arr:\n",
    "    model = MLPClassifier(alpha=alpha, hidden_layer_sizes=(100,),\n",
    "                              solver=\"lbfgs\", activation=\"logistic\", max_iter=1000, random_state=5924)\n",
    "    model.fit(X_train, y_train)\n",
    "\n",
    "    y_train_pred = model.predict(X_train)\n",
    "    y_test_pred = model.predict(X_test)\n",
    "\n",
    "    train_err.append(np.mean(y_train != y_train_pred))\n",
    "    test_err.append(np.mean(y_test != y_test_pred))\n",
    "    train_acc.append(accuracy_score(y_train, y_train_pred))\n",
    "    test_acc.append(accuracy_score(y_test, y_test_pred))"
   ]
  },
  {
   "cell_type": "code",
   "execution_count": 9,
   "metadata": {},
   "outputs": [
    {
     "data": {
      "image/png": "[encoded data removed]",
      "text/plain": [
       "<Figure size 432x288 with 1 Axes>"
      ]
     },
     "metadata": {
      "needs_background": "light"
     },
     "output_type": "display_data"
    }
   ],
   "source": [
    "plt.semilogx(alpha_arr, train_acc, \"r-o\", label=\"train\")\n",
    "plt.semilogx(alpha_arr, test_acc, \"b-o\", label=\"test\")\n",
    "plt.xlim([np.min(alpha_arr), np.max(alpha_arr)])\n",
    "plt.xlabel(\"alpha\")\n",
    "plt.ylabel(\"accuracy\")\n",
    "plt.legend()\n",
    "pass"
   ]
  },
  {
   "cell_type": "markdown",
   "metadata": {},
   "source": [
    "Судя по графику, не наблюдается ни недообучения, ни переобучения. Колебания точности как на тренировочной, так и на тестовой выборке происходят в относительно малом диапазоне и, в целом, синхронно."
   ]
  },
  {
   "cell_type": "code",
   "execution_count": 10,
   "metadata": {},
   "outputs": [
    {
     "name": "stdout",
     "output_type": "stream",
     "text": [
      "0.13052836915212054 0.13056200181616387\n"
     ]
    }
   ],
   "source": [
    "min_train_err = np.min(train_err)\n",
    "min_test_err = np.min(test_err)\n",
    "print(min_train_err, min_test_err)"
   ]
  },
  {
   "cell_type": "markdown",
   "metadata": {},
   "source": [
    "Получено оптимальное значение $\\alpha$:"
   ]
  },
  {
   "cell_type": "code",
   "execution_count": 11,
   "metadata": {},
   "outputs": [
    {
     "name": "stdout",
     "output_type": "stream",
     "text": [
      "0.001\n"
     ]
    }
   ],
   "source": [
    "alpha_opt = alpha_arr[test_err == min_test_err][0]\n",
    "print(alpha_opt)"
   ]
  },
  {
   "cell_type": "markdown",
   "metadata": {},
   "source": [
    "Запустим классификацию при вычисленном оптимальном значении $\\alpha$:"
   ]
  },
  {
   "cell_type": "code",
   "execution_count": 12,
   "metadata": {},
   "outputs": [
    {
     "name": "stdout",
     "output_type": "stream",
     "text": [
      "Train: 0.8694716308478795, Test: 0.8694379981838362\n"
     ]
    }
   ],
   "source": [
    "model = MLPClassifier(alpha=alpha_opt, hidden_layer_sizes=(100,),\n",
    "                      solver=\"lbfgs\", activation=\"logistic\", max_iter=5000, random_state=5924)\n",
    "model.fit(X_train, y_train)\n",
    "\n",
    "y_train_pred = model.predict(X_train)\n",
    "y_test_pred = model.predict(X_test)\n",
    "print(\"Train: {}, Test: {}\".format(\n",
    "    accuracy_score(y_train, y_train_pred),\n",
    "    accuracy_score(y_test, y_test_pred)\n",
    "))"
   ]
  },
  {
   "cell_type": "markdown",
   "metadata": {},
   "source": [
    "Можно также попробовать подобрать число нейронов в скрытом слое:"
   ]
  },
  {
   "cell_type": "code",
   "execution_count": 13,
   "metadata": {},
   "outputs": [
    {
     "name": "stdout",
     "output_type": "stream",
     "text": [
      "Wall time: 1min 28s\n"
     ]
    }
   ],
   "source": [
    "%%time\n",
    "\n",
    "hlsize_arr = np.linspace(10, 200, 10).astype(int)\n",
    "test_err = []\n",
    "train_err = []\n",
    "train_acc = []\n",
    "test_acc = []\n",
    "\n",
    "for hlsize in hlsize_arr:\n",
    "    model = MLPClassifier(alpha=alpha_opt, hidden_layer_sizes=(hlsize,),\n",
    "                          solver=\"lbfgs\", activation=\"logistic\", max_iter=5000, random_state=5924)\n",
    "    model.fit(X_train, y_train)\n",
    "\n",
    "    y_train_pred = model.predict(X_train)\n",
    "    y_test_pred = model.predict(X_test)\n",
    "\n",
    "    train_err.append(np.mean(y_train != y_train_pred))\n",
    "    test_err.append(np.mean(y_test != y_test_pred))\n",
    "    train_acc.append(accuracy_score(y_train, y_train_pred))\n",
    "    test_acc.append(accuracy_score(y_test, y_test_pred))"
   ]
  },
  {
   "cell_type": "code",
   "execution_count": 14,
   "metadata": {},
   "outputs": [
    {
     "data": {
      "image/png": "[encoded data removed]",
      "text/plain": [
       "<Figure size 432x288 with 1 Axes>"
      ]
     },
     "metadata": {
      "needs_background": "light"
     },
     "output_type": "display_data"
    }
   ],
   "source": [
    "plt.semilogx(hlsize_arr, train_acc, \"r-o\", label=\"train\")\n",
    "plt.semilogx(hlsize_arr, test_acc, \"b-o\", label=\"test\")\n",
    "plt.xlim([np.min(hlsize_arr), np.max(hlsize_arr)])\n",
    "plt.xlabel(\"hidden layer size\")\n",
    "plt.ylabel(\"accuracy\")\n",
    "plt.legend()\n",
    "pass"
   ]
  },
  {
   "cell_type": "markdown",
   "metadata": {},
   "source": [
    "При определенном числе нейронов есть падение точности на тестовой выборке и рост на тренировочной, то есть, переобучение, которое, впрочем, не наблюдается при других значениях параметра. В остальном, колебания точности происходят в относительно малом диапазоне как на тренировочной, так и на тестовой выборке, и нет ни недообучения, ни переобучения."
   ]
  },
  {
   "cell_type": "code",
   "execution_count": 15,
   "metadata": {},
   "outputs": [
    {
     "name": "stdout",
     "output_type": "stream",
     "text": [
      "0.12911579726230116 0.13056200181616387\n"
     ]
    }
   ],
   "source": [
    "min_train_err = np.min(train_err)\n",
    "min_test_err = np.min(test_err)\n",
    "print(min_train_err, min_test_err)"
   ]
  },
  {
   "cell_type": "markdown",
   "metadata": {},
   "source": [
    "Получено оптимальное число нейронов:"
   ]
  },
  {
   "cell_type": "code",
   "execution_count": 16,
   "metadata": {},
   "outputs": [
    {
     "name": "stdout",
     "output_type": "stream",
     "text": [
      "115\n"
     ]
    }
   ],
   "source": [
    "hlsize_opt = hlsize_arr[test_err == min_test_err][0]\n",
    "print(hlsize_opt)"
   ]
  },
  {
   "cell_type": "markdown",
   "metadata": {},
   "source": [
    "Запустим классификацию при вычисленном оптимальном числе нейронов в скрытом слое:"
   ]
  },
  {
   "cell_type": "code",
   "execution_count": 17,
   "metadata": {},
   "outputs": [
    {
     "name": "stdout",
     "output_type": "stream",
     "text": [
      "Train: 0.8693707328557495, Test: 0.8694379981838362\n"
     ]
    }
   ],
   "source": [
    "model = MLPClassifier(alpha=alpha_opt, hidden_layer_sizes=(hlsize_opt,),\n",
    "                      solver=\"lbfgs\", activation=\"logistic\", max_iter=5000, random_state=5924)\n",
    "model.fit(X_train, y_train)\n",
    "\n",
    "y_train_pred = model.predict(X_train)\n",
    "y_test_pred = model.predict(X_test)\n",
    "print(\"Train: {}, Test: {}\".format(\n",
    "    accuracy_score(y_train, y_train_pred),\n",
    "    accuracy_score(y_test, y_test_pred)\n",
    "))"
   ]
  },
  {
   "cell_type": "markdown",
   "metadata": {},
   "source": [
    "Теперь попробуем заново подобрать одновременно и коэффициент регуляризации $\\alpha$, и размер скрытого слоя:"
   ]
  },
  {
   "cell_type": "code",
   "execution_count": 18,
   "metadata": {},
   "outputs": [
    {
     "name": "stdout",
     "output_type": "stream",
     "text": [
      "Wall time: 2min 55s\n"
     ]
    }
   ],
   "source": [
    "%%time\n",
    "\n",
    "alpha_arr = np.logspace(-3, 2, 10)\n",
    "hlsize_arr = np.linspace(10, 200, 5).astype(int)\n",
    "params = []\n",
    "test_err = []\n",
    "train_err = []\n",
    "train_acc = []\n",
    "test_acc = []\n",
    "\n",
    "for alpha in alpha_arr:\n",
    "    for hlsize in hlsize_arr:\n",
    "        model = MLPClassifier(alpha=alpha, hidden_layer_sizes=(hlsize,),\n",
    "                                solver=\"lbfgs\", activation=\"logistic\", max_iter=5000, random_state=5924)\n",
    "        model.fit(X_train, y_train)\n",
    "\n",
    "        y_train_pred = model.predict(X_train)\n",
    "        y_test_pred = model.predict(X_test)\n",
    "\n",
    "        train_err.append(np.mean(y_train != y_train_pred))\n",
    "        test_err.append(np.mean(y_test != y_test_pred))\n",
    "        train_acc.append(accuracy_score(y_train, y_train_pred))\n",
    "        test_acc.append(accuracy_score(y_test, y_test_pred))\n",
    "        params.append([alpha, hlsize])"
   ]
  },
  {
   "cell_type": "markdown",
   "metadata": {},
   "source": [
    "Получены следующие оптимальные значения:"
   ]
  },
  {
   "cell_type": "code",
   "execution_count": 19,
   "metadata": {},
   "outputs": [
    {
     "name": "stdout",
     "output_type": "stream",
     "text": [
      "0.003593813663804626 10\n"
     ]
    }
   ],
   "source": [
    "min_test_err = np.min(test_err)\n",
    "i = np.where(test_err == min_test_err)[0][0]\n",
    "alpha_opt, hlsize_opt = params[i]\n",
    "print(alpha_opt, hlsize_opt)"
   ]
  },
  {
   "cell_type": "markdown",
   "metadata": {},
   "source": [
    "## Классификация\n",
    "\n",
    "Теперь можно выполнить классификацию при оптимальных значениях гиперпараметров:"
   ]
  },
  {
   "cell_type": "code",
   "execution_count": 20,
   "metadata": {},
   "outputs": [
    {
     "name": "stdout",
     "output_type": "stream",
     "text": [
      "Train: 0.8694379981838362, Test: 0.869740692160226\n"
     ]
    }
   ],
   "source": [
    "model = MLPClassifier(alpha=alpha_opt, hidden_layer_sizes=(hlsize_opt,),\n",
    "                      solver=\"lbfgs\", activation=\"logistic\", max_iter=5000, random_state=5924)\n",
    "model.fit(X_train, y_train)\n",
    "\n",
    "y_train_pred = model.predict(X_train)\n",
    "y_test_pred = model.predict(X_test)\n",
    "print(\"Train: {}, Test: {}\".format(\n",
    "    accuracy_score(y_train, y_train_pred),\n",
    "    accuracy_score(y_test, y_test_pred)\n",
    "))\n"
   ]
  },
  {
   "cell_type": "markdown",
   "metadata": {},
   "source": [
    "### Матрица рассогласования"
   ]
  },
  {
   "cell_type": "code",
   "execution_count": 21,
   "metadata": {},
   "outputs": [
    {
     "data": {
      "image/png": "[encoded data removed]",
      "text/plain": [
       "<Figure size 432x288 with 2 Axes>"
      ]
     },
     "metadata": {
      "needs_background": "light"
     },
     "output_type": "display_data"
    }
   ],
   "source": [
    "confusion = confusion_matrix(y_test, y_test_pred, labels=model.classes_)\n",
    "display = ConfusionMatrixDisplay(confusion_matrix=confusion, display_labels=model.classes_)\n",
    "display.plot()\n",
    "plt.show()\n",
    "pass"
   ]
  },
  {
   "cell_type": "markdown",
   "metadata": {},
   "source": [
    "**Выводы:**\n",
    "\n",
    "* При подборе оптимальных значений гиперпараметров не получилось достичь большого изменения точности, улучшение на тестовой выборке вышло не более порядка $10^{-4}$\n",
    "* Исходя из этого, можно сказать, что у выбранного датасета не наблюдается явной зависимости точности от оптимизируемых гиперпараметров (значение alpha и число нейронов в скрытом слое)\n",
    "* Ни недообучения, ни переобучения не наблюдалось ни на одном из этапов подбора оптимальных параметров"
   ]
  }
 ],
 "metadata": {
  "interpreter": {
   "hash": "7ae4b0958d7313cabf1f153227d825c40199af1015885392ae4eecfef64937c3"
  },
  "kernelspec": {
   "display_name": "Python 3.8.5 64-bit",
   "language": "python",
   "name": "python3"
  },
  "language_info": {
   "codemirror_mode": {
    "name": "ipython",
    "version": 3
   },
   "file_extension": ".py",
   "mimetype": "text/x-python",
   "name": "python",
   "nbconvert_exporter": "python",
   "pygments_lexer": "ipython3",
   "version": "3.8.5"
  },
  "orig_nbformat": 4
 },
 "nbformat": 4,
 "nbformat_minor": 2
}
